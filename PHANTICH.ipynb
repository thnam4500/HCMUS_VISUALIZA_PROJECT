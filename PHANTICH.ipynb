{
 "cells": [
  {
   "cell_type": "code",
   "execution_count": null,
   "id": "7d2d0ced-9ac9-4b74-a79a-7608c530b252",
   "metadata": {},
   "outputs": [],
   "source": [
    "import pandas as pd\n",
    "import math\n",
    "import os\n",
    "import matplotlib.pyplot as plt\n",
    "import matplotlib.dates\n",
    "from datetime import datetime"
   ]
  },
  {
   "cell_type": "markdown",
   "id": "98ba7cde-c62f-46f6-abcc-eaf9a40b43cb",
   "metadata": {},
   "source": [
    "### Total active cases"
   ]
  },
  {
   "cell_type": "code",
   "execution_count": null,
   "id": "58b85d65-d230-44e8-8a65-68581e979fcf",
   "metadata": {},
   "outputs": [],
   "source": [
    "list_files = sorted(os.listdir('Data/'))\n",
    "list_files = [file for file in list_files if '2021' in file]\n",
    "def sum_col(col_name):\n",
    "    result = []\n",
    "    for file_name in list_files:\n",
    "        df = pd.read_csv('Data/'+file_name,encoding='utf-8',sep=';')\n",
    "        df = df.fillna(0)\n",
    "        result.append(df[col_name].sum()/1000)\n",
    "    return result\n",
    "new_cases = sum_col('New Cases')\n",
    "active_cases = sum_col('Active Cases')"
   ]
  },
  {
   "cell_type": "code",
   "execution_count": null,
   "id": "bfeef71a-b5db-4a3a-8267-64cfbed474b9",
   "metadata": {},
   "outputs": [],
   "source": [
    "list_files = sorted(os.listdir('Data/'))\n",
    "list_files = [file for file in list_files if '2021' in file]\n",
    "\n",
    "periods =  [datetime.strptime(x.split('.')[0],'%Y-%m-%d') for x in list_files]\n",
    "periods = [x.strftime('%d-%m') for x in periods]\n",
    "\n",
    "plt.plot(periods,active_cases)\n",
    "plt.ylabel('Số ca bệnh active (nghìn người)')\n",
    "plt.xlabel('Ngày')\n",
    "plt.title('Tổng số ca active trên thế giới')\n",
    "plt.xticks(rotation=60)\n",
    "plt.show()\n",
    "\n",
    "plt.title('Tổng số lượng ca mới')\n",
    "plt.xticks(rotation=60)\n",
    "plt.ylabel('Số ca bệnh active (nghìn người)')\n",
    "plt.xlabel('Ngày')\n",
    "plt.plot(periods, new_cases)\n",
    "plt.show()"
   ]
  },
  {
   "cell_type": "code",
   "execution_count": null,
   "id": "687344ab-15d8-484e-af17-547113e0f06e",
   "metadata": {},
   "outputs": [],
   "source": [
    "periods =  [datetime.strptime(x.split('.')[0],'%Y-%m-%d') for x in list_files]\n",
    "periods = [x.strftime('%d-%m') for x in periods]\n",
    "\n",
    "def sum_col_region(col_name,region):\n",
    "    result = []\n",
    "    for file_name in list_files:\n",
    "        df = pd.read_csv('Data/'+file_name,encoding='utf-8',sep=';')\n",
    "        df['Continent'] = df['Continent'].fillna('Unknow')\n",
    "        df = df.fillna(0)\n",
    "        Total = df[df['Continent']==region][col_name].sum()/1000\n",
    "        result.append(Total)\n",
    "    return result\n",
    "\n",
    "file_name = 'Data/2021-11-28.csv'\n",
    "df = pd.read_csv(file_name,encoding='utf-8',sep=';')\n",
    "df['Continent'] = df['Continent'].fillna('Unknow')\n",
    "regions = set(df['Continent'])\n",
    "dic_region = {}\n",
    "\n",
    "data = pd.DataFrame([],columns = ['Region']+periods)\n",
    "\n",
    "for region in regions:\n",
    "    if(region in ['Unknow']):\n",
    "        continue\n",
    "    dic_region[region] = sum_col_region('Active Cases',region)\n",
    "    data.loc[len(data)] = [region]+dic_region[region]\n",
    "    plt.plot(periods,dic_region[region],label=region)\n",
    "plt.legend(loc='best')\n",
    "plt.title(\"Active cases\")\n",
    "plt.ylabel(\"Số lượng ca (nghìn ca)\")\n",
    "plt.xlabel('Ngày')\n",
    "plt.xticks(rotation=60)\n",
    "plt.savefig('RegionActive.jpg')\n",
    "plt.show()\n",
    "\n",
    "pd.options.display.float_format = '{:,.0f}'.format\n",
    "data"
   ]
  },
  {
   "cell_type": "markdown",
   "id": "5540a1cf-f31f-4dc1-aad9-ce63e44ca020",
   "metadata": {},
   "source": [
    "#### New case in regions"
   ]
  },
  {
   "cell_type": "code",
   "execution_count": null,
   "id": "ff97ec32-473e-4fc3-87ab-da61505826ad",
   "metadata": {},
   "outputs": [],
   "source": [
    "for region in regions:\n",
    "    dic_region[region] = sum_col_region('New Cases',region)\n",
    "    plt.plot(periods,dic_region[region],label=region)\n",
    "plt.legend(loc='best')\n",
    "plt.ylabel(\"Số lượng ca (nghìn ca)\")\n",
    "plt.xlabel('Ngày')\n",
    "plt.xticks(rotation=60)\n",
    "plt.title(\"New cases\")\n",
    "plt.show()\n",
    "for region in regions:\n",
    "    dic_region[region] = sum_col_region('New Recovered',region)\n",
    "    plt.plot(periods,dic_region[region],label=region)\n",
    "plt.legend(loc='best')\n",
    "plt.ylabel(\"Số lượng ca (nghìn ca)\")\n",
    "plt.xlabel('Ngày')\n",
    "plt.title(\"New recovered\")\n",
    "plt.xticks(rotation=60)\n",
    "plt.show()"
   ]
  },
  {
   "cell_type": "markdown",
   "id": "5b7b22be-13c6-4505-bb88-0248d6f0fe21",
   "metadata": {},
   "source": []
  },
  {
   "cell_type": "markdown",
   "id": "dc97f41a-de0b-473f-b40f-a5308bebf4da",
   "metadata": {},
   "source": [
    "### Chúng ta sẽ xem xét tiếp tục cột Total Deaths\n",
    "Ở cột này, chúng ta sẽ lấy dữ liệu mới nhất của từng vùng để xem xét"
   ]
  },
  {
   "cell_type": "code",
   "execution_count": null,
   "id": "a291c6f5-d7e4-4b04-ac21-e9911d8f1ac9",
   "metadata": {},
   "outputs": [],
   "source": [
    "list_files = sorted(os.listdir('Data/'))\n",
    "file_name = \"Data/\"+list_files[len(list_files)-1]\n",
    "df = pd.read_csv(file_name,encoding='utf-8',sep=';')\n",
    "df['Continent'] = df['Continent'].fillna('Unknow')\n",
    "regions = set(df['Continent'])\n",
    "x = []\n",
    "y = []\n",
    "fig = plt.figure(figsize=(10,1))\n",
    "fig.add_axes([0,0,2,6])\n",
    "for region in regions:\n",
    "    x.append(region)\n",
    "    y.append(df[df['Continent']==region]['Total Deaths'].sum()/1000)\n",
    "plt.ylabel('Khu vực')\n",
    "plt.xlabel('Số người chết (nghìn người)')\n",
    "plt.title(\"Tổng số người chết\")\n",
    "plt.barh(x,y)\n",
    "plt.show()\n"
   ]
  },
  {
   "cell_type": "markdown",
   "id": "4f8b2af2-ddb6-41fb-819b-8b6957581a57",
   "metadata": {},
   "source": [
    "### Total deaths in countries"
   ]
  },
  {
   "cell_type": "code",
   "execution_count": null,
   "id": "1561f3df-b7c0-4606-9324-dac4f56402cb",
   "metadata": {},
   "outputs": [],
   "source": []
  },
  {
   "cell_type": "code",
   "execution_count": null,
   "id": "69686f86-ec0f-4ec8-a79b-a2458f0417a7",
   "metadata": {},
   "outputs": [],
   "source": [
    "list_files = sorted(os.listdir('Data/'))\n",
    "file_name = \"Data/\"+list_files[len(list_files)-1]\n",
    "pd.options.display.float_format = '{:,.10f}'.format\n",
    "df = pd.read_csv(file_name,encoding='utf-8',sep=';')\n",
    "df['Continent'] = df['Continent'].fillna('Unknow')\n",
    "groups = list(df.groupby(['Continent']).groups.keys())\n",
    "df = df.groupby(['Continent']).sum()\n",
    "\n",
    "df['Portion'] = df['Total Deaths']*100/df['Total Cases']\n",
    "df['Portion']\n",
    "for i in range(len(df)):\n",
    "    plt.pie([df['Portion'][i],100-df['Portion'][0]],labels=['Deaths','Not deaths'],autopct='%1.2f%%')\n",
    "    plt.title(f'{groups[i]}')\n",
    "    plt.show()\n",
    "df = df.sort_values(by=['Portion'])\n",
    "df['Portion']"
   ]
  },
  {
   "cell_type": "code",
   "execution_count": null,
   "id": "38d463eb-dcd5-489b-b9e0-a98726d2312a",
   "metadata": {},
   "outputs": [],
   "source": [
    "list_files = sorted(os.listdir('Data/'))\n",
    "file_name = \"Data/\"+list_files[len(list_files)-1]\n",
    "df = pd.read_csv(file_name,encoding='utf-8',sep=';')\n",
    "df['Continent'] = df['Continent'].fillna('Unknow')\n",
    "regions = set(df['Continent'])\n",
    "# fig = plt.figure(figsize=(10,1))\n",
    "fig,(ax1,ax2,ax3) = plt.subplots(nrows=3,ncols=1,figsize=(20,15))\n",
    "# plt.xlabel('Khu vực')\n",
    "for tick in ax1.get_xticklabels():\n",
    "    tick.set_rotation(90)\n",
    "for tick in ax2.get_xticklabels():\n",
    "    tick.set_rotation(90)\n",
    "for tick in ax3.get_xticklabels():\n",
    "    tick.set_rotation(90)\n",
    "df = df.sort_values(by=['Total Deaths'],ascending=False)\n",
    "df = df[df['Total Deaths']>10000]\n",
    "# ax2.bar(df['Country,Other'],df['Total Deaths'])\n",
    "ax1.bar(df['Country,Other'],df['Deaths/1M pop'])\n",
    "ax1.set_xlabel('Nước')\n",
    "ax1.set_ylabel('Số người chết')\n",
    "ax1.set_title('Deaths/1M population')\n",
    "\n",
    "\n",
    "ax2.bar(df['Country,Other'],df['Tot Cases/1M pop']/1000)\n",
    "ax2.set_xlabel('Nước')\n",
    "ax2.set_ylabel('Số ca (nghìn)')\n",
    "ax2.set_title('Total/1M population')\n",
    "\n",
    "\n",
    "ax3.bar(df['Country,Other'],df['Tests/1M pop']/1000)\n",
    "ax3.set_xlabel('Nước')\n",
    "ax3.set_ylabel('Số lượt test (nghìn)')\n",
    "ax3.set_title('Tests/1M pop')\n",
    "\n",
    "fig.tight_layout()\n",
    "fig.savefig('group.jpg')\n",
    "plt.show()\n",
    "\n"
   ]
  }
 ],
 "metadata": {
  "kernelspec": {
   "display_name": "Python 3 (ipykernel)",
   "language": "python",
   "name": "python3"
  },
  "language_info": {
   "codemirror_mode": {
    "name": "ipython",
    "version": 3
   },
   "file_extension": ".py",
   "mimetype": "text/x-python",
   "name": "python",
   "nbconvert_exporter": "python",
   "pygments_lexer": "ipython3",
   "version": "3.8.8"
  }
 },
 "nbformat": 4,
 "nbformat_minor": 5
}

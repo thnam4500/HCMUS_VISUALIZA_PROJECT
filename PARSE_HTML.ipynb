{
 "cells": [
  {
   "cell_type": "code",
   "execution_count": 1,
   "id": "7fcb9863-70de-47e7-b0fe-cafb3cc939a4",
   "metadata": {},
   "outputs": [],
   "source": [
    "import requests\n",
    "from datetime import date\n",
    "import datetime\n",
    "from bs4 import BeautifulSoup\n",
    "import time\n",
    "from selenium import webdriver\n",
    "import pandas as pd"
   ]
  },
  {
   "cell_type": "code",
   "execution_count": 2,
   "id": "1d2b782e-d307-47d4-b259-9b5d51ce25cc",
   "metadata": {},
   "outputs": [],
   "source": [
    "url = 'https://www.worldometers.info/coronavirus/'\n",
    "SLEEP_TIME = 10\n",
    "get_date = date.today() - datetime.timedelta(days=1)"
   ]
  },
  {
   "cell_type": "markdown",
   "id": "01a94ac4-ca7c-4537-b767-b7d1503eaebf",
   "metadata": {},
   "source": [
    "### LẤY DỮ LIỆU"
   ]
  },
  {
   "cell_type": "code",
   "execution_count": 3,
   "id": "52237b4c-8d0d-4c57-bcb8-8d2ea6affd38",
   "metadata": {},
   "outputs": [],
   "source": [
    "browser = webdriver.Chrome()\n",
    "browser.get(url)\n",
    "time.sleep(SLEEP_TIME)\n",
    "last_height = browser.execute_script(\"return document.body.scrollHeight\")\n",
    "while True:\n",
    "    # Scroll trang web xuống cuối trang.\n",
    "    browser.execute_script(\"window.scrollTo(0, document.body.scrollHeight);\")\n",
    "        \n",
    "    # Chờ để load trang web.\n",
    "    time.sleep(SLEEP_TIME)\n",
    "        \n",
    "        # Thực hiện gán chiều cao mới sau khi kéo xuống cuối page và giảm số lần lặp nếu có chỉnh thông số time_loops\n",
    "    new_height = browser.execute_script(\"return document.body.scrollHeight\")\n",
    "    if (new_height == last_height):\n",
    "        break\n",
    "\n",
    "    last_height = new_height\n",
    "soup = BeautifulSoup(browser.page_source,'html.parser')\n",
    "browser.close()"
   ]
  },
  {
   "cell_type": "markdown",
   "id": "e43635ee-7108-4b5a-ac31-6d73c38973fd",
   "metadata": {},
   "source": [
    "### XỬ LÝ DỮ LIỆU TRƯỚC KHI LƯU"
   ]
  },
  {
   "cell_type": "code",
   "execution_count": 4,
   "id": "46339c89-f3f5-4aab-87d6-598fb0d2a5fc",
   "metadata": {},
   "outputs": [],
   "source": [
    "def colname_process(s):\n",
    "    n = len(s)\n",
    "    for i in range(n-1):\n",
    "        if('a'<=s[i]<='z' and 'A'<=s[i+1]<='Z'):\n",
    "           s = s[:i+1]+' '+s[i+1:]\n",
    "    return s\n",
    "table = soup.find('div',{'id':'nav-yesterday'})\n",
    "rows = table.find_all('tr')\n",
    "colsname = [row.get_text() for row in rows[0].find_all('th')]\n",
    "colsname = [colname_process(colname).strip() for colname in colsname]\n",
    "rows.remove(rows[0])\n",
    "for i in range(len(colsname)):\n",
    "    colsname[i] = colsname[i].replace('\\n','')\n",
    "colsname[10] = colsname[10].replace('\\xa0',' ')"
   ]
  },
  {
   "cell_type": "code",
   "execution_count": 5,
   "id": "4e6cd48e-46de-40fc-b22b-bad36e767ec9",
   "metadata": {},
   "outputs": [],
   "source": [
    "result = []\n",
    "for row in rows:\n",
    "    if 'total_row_world' not in row.get('class') and 'total_row' not in row.get('class'):\n",
    "        cols = row.find_all('td')\n",
    "        data = [col.get_text() for col in cols]\n",
    "        result.append(data)"
   ]
  },
  {
   "cell_type": "code",
   "execution_count": 6,
   "id": "717e0573-008e-49c8-8904-e7daa6056f04",
   "metadata": {},
   "outputs": [],
   "source": [
    "def preprocess_1_row(data):\n",
    "    int_comma = [0,2,4,6,8,9,10,11,12,13,14]\n",
    "    new_ = [3,5,7]\n",
    "    for i in int_comma:\n",
    "        if type(data[i]) != int and data[i].strip() != '' and data[i] != 'N/A':\n",
    "            data[i] = int(data[i].replace(',',''))\n",
    "            continue\n",
    "        if type(data[i]) == str and data[i].strip() == '':\n",
    "            data[i] = 0\n",
    "    for i in new_:\n",
    "        if type(data[i]) != int and data[i].strip() != '' and data[i] != 'N/A':\n",
    "            data[i] = int(data[i][1:].replace(',',''))\n",
    "            continue\n",
    "        if type(data[i]) == str and data[i].strip() == '':\n",
    "            data[i] = 0\n",
    "    return data\n",
    "\n",
    "def preprocess_all(list_data):\n",
    "    for i in range(len(list_data)):\n",
    "        list_data[i] = preprocess_1_row(list_data[i])\n",
    "    return list_data"
   ]
  },
  {
   "cell_type": "code",
   "execution_count": 7,
   "id": "968c950a-24b1-417f-8d49-c56cb466ff3d",
   "metadata": {},
   "outputs": [],
   "source": [
    "data = preprocess_all(result)"
   ]
  },
  {
   "cell_type": "markdown",
   "id": "8bac4fb3-7e53-43cf-b65b-c76893ca7d07",
   "metadata": {},
   "source": [
    "### Write to csv"
   ]
  },
  {
   "cell_type": "code",
   "execution_count": 8,
   "id": "02b52bc2-8216-44c1-8997-053a1a9bda47",
   "metadata": {},
   "outputs": [],
   "source": [
    "df = pd.DataFrame(data,columns=colsname)\n",
    "df.to_csv(f'Data/{get_date}.csv',encoding='utf-8',sep=';',index=False)"
   ]
  }
 ],
 "metadata": {
  "kernelspec": {
   "display_name": "Python 3 (ipykernel)",
   "language": "python",
   "name": "python3"
  },
  "language_info": {
   "codemirror_mode": {
    "name": "ipython",
    "version": 3
   },
   "file_extension": ".py",
   "mimetype": "text/x-python",
   "name": "python",
   "nbconvert_exporter": "python",
   "pygments_lexer": "ipython3",
   "version": "3.8.12"
  }
 },
 "nbformat": 4,
 "nbformat_minor": 5
}
